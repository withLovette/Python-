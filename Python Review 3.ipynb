{
 "cells": [
  {
   "cell_type": "code",
   "execution_count": null,
   "id": "dc40ffff",
   "metadata": {},
   "outputs": [],
   "source": [
    "# Create a class called Car with the following: \n",
    "# • Attributes: brand (string) and year (integer). \n",
    "# • A method called show_info that prints:\n",
    "# \"This car is a {brand} made in {year}.\""
   ]
  },
  {
   "cell_type": "code",
   "execution_count": 25,
   "id": "ad8cf228",
   "metadata": {},
   "outputs": [
    {
     "name": "stdout",
     "output_type": "stream",
     "text": [
      "This car is a Toyota made in 2015\n"
     ]
    }
   ],
   "source": [
    "class Car:\n",
    "    #def __init__(self):\n",
    "        #pass\n",
    "    \n",
    "    def show_info(self, brand, year):\n",
    "        print(f\"This car is a {brand} made in {year}\")\n",
    "        \n",
    "my_car = Car()\n",
    "my_car.show_info(\"Toyota\", 2015)\n"
   ]
  },
  {
   "cell_type": "code",
   "execution_count": null,
   "id": "28c8a775",
   "metadata": {},
   "outputs": [],
   "source": [
    "# Modify the Car class to include an __init__ method that initializes brand and year during object creation\n",
    "# Create two Car objects and call the show_info method for both. "
   ]
  },
  {
   "cell_type": "code",
   "execution_count": 24,
   "id": "7828409a",
   "metadata": {},
   "outputs": [
    {
     "name": "stdout",
     "output_type": "stream",
     "text": [
      "This car is a Toyota made in 2015.\n",
      "This car is a Acura made in 2023.\n"
     ]
    }
   ],
   "source": [
    "class Car:\n",
    "    def __init__(self, brand, year):\n",
    "        self.brand = brand\n",
    "        self.year = year\n",
    "        pass\n",
    "        \n",
    "    def show_info(self):\n",
    "        print(f\"This car is a {self.brand} made in {self.year}.\")\n",
    "        \n",
    "my_car1 = Car(\"Toyota\", 2015)\n",
    "my_car2 = Car(\"Acura\", 2023)\n",
    "\n",
    "my_car1.show_info()\n",
    "my_car2.show_info()"
   ]
  },
  {
   "cell_type": "code",
   "execution_count": null,
   "id": "20b95056",
   "metadata": {},
   "outputs": [],
   "source": [
    "# Create a class called Circle with: \n",
    "# • Attribute: radius (default to 1.0). \n",
    "# • Methods: \n",
    "# 1. get_area() to return the area of the circle (π * radius^2).  \n",
    "# 2. get_circumference() to return the circumference (2 * π * radius). \n",
    "# Create a circle and print its area and circumference."
   ]
  },
  {
   "cell_type": "code",
   "execution_count": 37,
   "id": "14ecf3c3",
   "metadata": {},
   "outputs": [
    {
     "name": "stdout",
     "output_type": "stream",
     "text": [
      "The area of the circle is 3.141592653589793.\n",
      "The circumference of the circle is 6.283185307179586\n"
     ]
    }
   ],
   "source": [
    "import math\n",
    "\n",
    "class Circle:\n",
    "    def __init__(self, radius=1.0):\n",
    "        self.radius = radius\n",
    "        pass\n",
    "    def get_area(self):\n",
    "        area_of_circle = math.pi * self.radius**2\n",
    "        print(f\"The area of the circle is {area_of_circle}.\")\n",
    "        \n",
    "    def get_circumference(self):\n",
    "        circle_circumference = 2 * math.pi * self.radius\n",
    "        print(f\"The circumference of the circle is {circle_circumference}\")\n",
    "        \n",
    "area = Circle()\n",
    "circumference = Circle()\n",
    "\n",
    "area.get_area()\n",
    "circumference.get_circumference()\n",
    "    "
   ]
  },
  {
   "cell_type": "code",
   "execution_count": null,
   "id": "c39c1835",
   "metadata": {},
   "outputs": [],
   "source": [
    "# Create a class BankAccount with: \n",
    "# • Attributes: account_holder and balance (default to 0). \n",
    "# • Methods: \n",
    "# 1. deposit(amount) to add money to the balance. \n",
    "# 2. withdraw(amount) to subtract money from the balance (if there are sufficient \n",
    "# funds). \n",
    "# 3. check_balance() to return the current balance. \n",
    "# Test by creating an account, performing a deposit and withdrawal, and checking the balance. "
   ]
  },
  {
   "cell_type": "code",
   "execution_count": 101,
   "id": "c24d61f9",
   "metadata": {},
   "outputs": [
    {
     "name": "stdout",
     "output_type": "stream",
     "text": [
      "Harry, $1000 has been deposited. New balance: $1000.00\n",
      "$100 has been withdrawn. New balance: $900.00\n",
      "Harry, your current balance is $900.00\n"
     ]
    }
   ],
   "source": [
    "class Bank_account():\n",
    "    def __init__(self, account_holder, balance = 0):\n",
    "        self.account_holder = account_holder\n",
    "        self.balance = balance\n",
    "        pass\n",
    "    # deposit(self, amount)\n",
    "    def deposit(self, amount):\n",
    "        if amount <= 0:\n",
    "            print(\"Deposit amount must be positive.\")\n",
    "        else:\n",
    "            self.balance += amount\n",
    "            print(f\"{self.account_holder}, ${amount} has been deposited. New balance: ${self.balance:.2f}\")\n",
    "    # withdraw(self, amount)\n",
    "    def withdraw(self, amount):\n",
    "        if amount <= 0:\n",
    "            print(\"Withdrawal amount must be positive.\")\n",
    "        elif amount > self.balance:\n",
    "            print(\"Insufficient funds.\")\n",
    "        else:\n",
    "            self.balance -= amount\n",
    "            print(f\"${amount} has been withdrawn. New balance: ${self.balance:.2f}\")\n",
    "    # check balance        \n",
    "    def check_balance(self):\n",
    "        print(f\"{self.account_holder}, your current balance is ${self.balance:.2f}\")\n",
    "        \n",
    "account = Bank_account(\"Harry\")\n",
    "account.deposit(1000)\n",
    "account.withdraw(100)\n",
    "account.check_balance()\n",
    "    "
   ]
  },
  {
   "cell_type": "code",
   "execution_count": null,
   "id": "805b585f",
   "metadata": {},
   "outputs": [],
   "source": [
    "# Exercise 5: Working with Multiple Objects \n",
    "# Create a class Dog with: \n",
    "# • Attributes: name and age. \n",
    "# • A method bark() that prints \"Woof! My name is {name}!\" \n",
    "# Create three Dog objects with different names and ages. Call the bark() method for each."
   ]
  },
  {
   "cell_type": "code",
   "execution_count": 61,
   "id": "b8e65ed2",
   "metadata": {},
   "outputs": [
    {
     "name": "stdout",
     "output_type": "stream",
     "text": [
      "Woof! My name is Ricky!\n",
      "Woof! My name is Coco!\n",
      "Woof! My name is Bella!\n"
     ]
    }
   ],
   "source": [
    "class Dog:\n",
    "    def __init__(self, name , age):\n",
    "        self.name = name\n",
    "        self.age = age\n",
    "        \n",
    "    def bark(self):\n",
    "        print(f\"Woof! My name is {self.name}!\")\n",
    "        \n",
    "Dog1 = Dog(\"Ricky\", 10)\n",
    "Dog2 = Dog(\"Coco\", 8)\n",
    "Dog3 = Dog(\"Bella\", 4)\n",
    "\n",
    "Dog1.bark()\n",
    "Dog2.bark()\n",
    "Dog3.bark()"
   ]
  },
  {
   "cell_type": "code",
   "execution_count": null,
   "id": "3bb0ba81",
   "metadata": {},
   "outputs": [],
   "source": [
    "# Exercise 6: Using Class Variables \n",
    "# Create a class LibraryBook with: \n",
    "# • Attributes: title, author, and a class variable total_books (default to 0). \n",
    "# • A method add_book() that increments total_books when a book is created. \n",
    "# Test by creating three books and printing the total number of books. "
   ]
  },
  {
   "cell_type": "code",
   "execution_count": 94,
   "id": "3ff5cc8e",
   "metadata": {},
   "outputs": [
    {
     "name": "stdout",
     "output_type": "stream",
     "text": [
      "The total number of books is 4\n"
     ]
    }
   ],
   "source": [
    "class LibraryBook:\n",
    "    total_books = 0\n",
    "\n",
    "    def __init__(self, title, author):\n",
    "        self.title = title\n",
    "        self.author = author\n",
    "        # Increment total_books when a book is created\n",
    "        LibraryBook.add_book()\n",
    "        pass\n",
    "\n",
    "    @classmethod\n",
    "    def add_book(cls):\n",
    "        cls.total_books += 1  \n",
    "\n",
    "# Creating book instances\n",
    "book1 = LibraryBook(\"Purple Hibiscus\", \"Chimamanda Adichie\")\n",
    "book2 = LibraryBook(\"There Was a Country\", \"Chinua Achebe\")\n",
    "book3 = LibraryBook(\"Born a Crime\", \"Trevor Noah\")\n",
    "book4 = LibraryBook(\"Turtles all the way down\", \"John Green\")\n",
    "\n",
    "# Printing the total number of books\n",
    "print(f\"The total number of books is {LibraryBook.total_books}\")"
   ]
  },
  {
   "cell_type": "code",
   "execution_count": 97,
   "id": "e54536a3",
   "metadata": {},
   "outputs": [],
   "source": [
    "# Exercise 7: Implementing Default Behavior \n",
    "# Create a class Student with: \n",
    "# • Attributes: name and grade (default to None). \n",
    "# • Methods: \n",
    "# 1. set_grade(grade) to assign a grade. \n",
    "# 2. show_info() to print \"Student: {name}, Grade: {grade}\". \n",
    "# Test by creating a student, assigning a grade, and displaying their information. "
   ]
  },
  {
   "cell_type": "code",
   "execution_count": 96,
   "id": "3ed8f6e3",
   "metadata": {},
   "outputs": [
    {
     "name": "stdout",
     "output_type": "stream",
     "text": [
      "Student: Harry, Grade: 85\n"
     ]
    }
   ],
   "source": [
    "class Student:\n",
    "    def show_info(self):\n",
    "        print(f'Student: {self.name}, Grade: {self.grade}')\n",
    "    def set_grade(self, grade):\n",
    "        self.grade = grade\n",
    "    def set_name(self, name):\n",
    "        self.name = name\n",
    "    \n",
    "student_obj = Student()\n",
    "student_obj.set_name(\"Harry\")\n",
    "student_obj.set_grade(85)\n",
    "student_obj.show_info()\n",
    "        "
   ]
  },
  {
   "cell_type": "code",
   "execution_count": null,
   "id": "f8aed506",
   "metadata": {},
   "outputs": [],
   "source": [
    "# Exercise 8: Encapsulation \n",
    "# Create a class Account with: \n",
    "# • Private attributes: __balance. \n",
    "# • Public methods: \n",
    "# 1. deposit(amount) to add to the balance. \n",
    "# 2. withdraw(amount) to subtract from the balance (if sufficient funds). \n",
    "# 3. get_balance() to display the current balance. \n",
    "# Test encapsulation by trying to directly access __balance and observing the error. Use the \n",
    "# public methods instead. "
   ]
  },
  {
   "cell_type": "code",
   "execution_count": 99,
   "id": "ef475c76",
   "metadata": {},
   "outputs": [
    {
     "name": "stdout",
     "output_type": "stream",
     "text": [
      "Harry, $1000 has been deposited. New balance: $1000.00\n",
      "$100 has been withdrawn. New balance: $900.00\n",
      "Harry, your balance is $900.00\n",
      "Harry, your balance is $1000.46\n"
     ]
    }
   ],
   "source": [
    "class Bank_account():\n",
    "    def __init__(self, account_holder, balance = 0):\n",
    "        self.__account_holder = account_holder   #\"__\" makes an objct a private variable\n",
    "        self.__balance = balance\n",
    "        pass\n",
    "    # deposit(self, amount)\n",
    "    def deposit(self, amount):\n",
    "        if amount <= 0:\n",
    "            print(\"Deposit amount must be positive.\")\n",
    "        else:\n",
    "            self.__balance += amount\n",
    "            print(f\"{self.__account_holder}, ${amount} has been deposited. New balance: ${self.__balance:.2f}\")\n",
    "    # withdraw(self, amount)\n",
    "    def withdraw(self, amount):\n",
    "        if amount <= 0:\n",
    "            print(\"Withdrawal amount must be positive.\")\n",
    "        elif amount > self.__balance:\n",
    "            print(\"Insufficient funds.\")\n",
    "        else:\n",
    "            self.__balance -= amount\n",
    "            print(f\"${amount} has been withdrawn. New balance: ${self.__balance:.2f}\")\n",
    "    # get balance        \n",
    "    def get_balance(self):\n",
    "        print(f\"{self.__account_holder}, your balance is ${self.__balance:.2f}\")\n",
    "        \n",
    "account = Bank_account(\"Harry\")\n",
    "account.deposit(1000)\n",
    "account.withdraw(100)\n",
    "account.get_balance()\n",
    "print(account.__name)\n",
    "\n",
    "\n",
    "\n",
    "\n",
    "class Bank_Account:\n",
    "    def __init__(self, account_holder, balance = 0):\n",
    "        self.__account_holder = account_holder            \n",
    "        self.__balance = balance\n",
    "        \n",
    "    def get_balance(self):\n",
    "        print(f\"{self.__account_holder}, your balance is ${self.__balance:.2f}\")\n",
    "        \n",
    "account = Bank_Account(\"Harry\", float(1000.4567))\n",
    "account.get_balance()"
   ]
  },
  {
   "cell_type": "code",
   "execution_count": null,
   "id": "a3eec65d",
   "metadata": {},
   "outputs": [],
   "source": [
    "# Exercise 9: Class Relationships \n",
    "# Create a class Team with: \n",
    "# • Attribute: team_name. \n",
    "# • Method: show_team() that prints: \"This is team {team_name}.\" \n",
    "# Create another class Player with: \n",
    "# • Attributes: name, age, and team (an object of the Team class).\n",
    "# • A method introduce() that prints: \"Hi, I'm {name}, age {age}, and I play \n",
    "# for {team_name}.\" \n",
    "# Test by creating a team and a player, and calling their respective methods. "
   ]
  },
  {
   "cell_type": "code",
   "execution_count": 98,
   "id": "7778c8ae",
   "metadata": {},
   "outputs": [
    {
     "name": "stdout",
     "output_type": "stream",
     "text": [
      "This is team Super eagles.\n",
      "Hi, I'm Kanu, age 27, and I play for Super eagles.\n"
     ]
    }
   ],
   "source": [
    "class Team:\n",
    "    def __init__(self, team_name):\n",
    "        self.team_name = team_name\n",
    "\n",
    "    def show_team(self):\n",
    "        print(f\"This is team {self.team_name}.\")\n",
    "\n",
    "\n",
    "class Player:\n",
    "    def __init__(self, name, age, team):\n",
    "        self.name = name\n",
    "        self.age = age\n",
    "    # an object of the Team class\n",
    "        self.team = team  \n",
    "\n",
    "    def introduce(self):\n",
    "        print(f\"Hi, I'm {self.name}, age {self.age}, and I play for {self.team.team_name}.\")\n",
    "\n",
    "\n",
    "# Creating a team\n",
    "team1 = Team(\"Super eagles\")\n",
    "\n",
    "#A player with the team\n",
    "player1 = Player(\"Kanu\", 27, team1)\n",
    "\n",
    "# Call methods\n",
    "team1.show_team()\n",
    "player1.introduce()"
   ]
  },
  {
   "cell_type": "code",
   "execution_count": null,
   "id": "8214b9c6",
   "metadata": {},
   "outputs": [],
   "source": [
    "# Exercise 10: Mini Inventory System \n",
    "# Create a class Item with: \n",
    "# • Attributes: name, price, and quantity. \n",
    "# • Methods: \n",
    "# 1. update_quantity(new_quantity) to change the quantity. \n",
    "# 2. calculate_total_price() to return price * quantity. \n",
    "# Create an inventory (a list of items) and demonstrate updating quantities and calculating total \n",
    "# prices for the items."
   ]
  },
  {
   "cell_type": "code",
   "execution_count": 103,
   "id": "6933c75c",
   "metadata": {},
   "outputs": [
    {
     "ename": "SyntaxError",
     "evalue": "invalid syntax (3226154062.py, line 15)",
     "output_type": "error",
     "traceback": [
      "\u001b[1;36m  Cell \u001b[1;32mIn[103], line 15\u001b[1;36m\u001b[0m\n\u001b[1;33m    inventory = [item1:{'name':tennis_ball, 'quantity': 4, 'total_price' : 100},\u001b[0m\n\u001b[1;37m                      ^\u001b[0m\n\u001b[1;31mSyntaxError\u001b[0m\u001b[1;31m:\u001b[0m invalid syntax\n"
     ]
    }
   ],
   "source": [
    "class Item:\n",
    "    def __init__(self, name, price, quantity):\n",
    "        self.name = name\n",
    "        self.price = price\n",
    "        self.quantity = quantity\n",
    "        \n",
    "    def update_quantity(self, new_quantity):\n",
    "        self.quantity = new_quantity \n",
    "        print(f\"The product {self.name} has been updated to a quantity of {self.new_quantity}\")\n",
    "        \n",
    "    def calculate_totalprice(self):\n",
    "        total_price = self.price * self.new_quantity\n",
    "        return total_price\n",
    "    \n",
    "inventory = [item1:{self.name:tennis_ball, self.quantity : 4, 'total_price' : 100},\n",
    "             item2:{self.name:tennis_racket,self.quantity : 5, 'total_price' : 1500},\n",
    "             item3:{self.name:tennis_shoes, self.quantity : 2, 'total_price' : 1000}]\n",
    "\n",
    "print(inventory)\n",
    "\n",
    "for key, value in inventory.items():\n",
    "    print(f\"item1[self.name] has a quantity of item1[self.quantity] and a total price of {total_price}.\")\n",
    "   "
   ]
  },
  {
   "cell_type": "code",
   "execution_count": null,
   "id": "65125a10",
   "metadata": {},
   "outputs": [],
   "source": [
    "\n"
   ]
  }
 ],
 "metadata": {
  "kernelspec": {
   "display_name": "Python 3 (ipykernel)",
   "language": "python",
   "name": "python3"
  },
  "language_info": {
   "codemirror_mode": {
    "name": "ipython",
    "version": 3
   },
   "file_extension": ".py",
   "mimetype": "text/x-python",
   "name": "python",
   "nbconvert_exporter": "python",
   "pygments_lexer": "ipython3",
   "version": "3.10.9"
  }
 },
 "nbformat": 4,
 "nbformat_minor": 5
}
