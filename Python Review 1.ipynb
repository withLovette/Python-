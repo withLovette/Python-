{
 "cells": [
  {
   "cell_type": "code",
   "execution_count": 1,
   "id": "4112273c",
   "metadata": {},
   "outputs": [],
   "source": [
    "# 1.Numeric Types\n",
    "#    1.Create variables my_int, my_float, and my_complex with the following values: \n",
    "#       my_int = 10 (integer) \n",
    "#       my_float = 3.14 (float) \n",
    "#       my_complex = 2 + 3j (complex number) \n",
    "#   2. Print the type of each variable using type(). \n",
    "#   3. Try adding my_int and my_float. What is the result? \n",
    "#   4. Multiply my_float by my_complex and print the result."
   ]
  },
  {
   "cell_type": "code",
   "execution_count": 5,
   "id": "a3b27b45",
   "metadata": {},
   "outputs": [],
   "source": [
    "#1\n",
    "my_int = 10 \n",
    "my_float = 3.14\n",
    "my_complex = 2 + 3j"
   ]
  },
  {
   "cell_type": "code",
   "execution_count": 56,
   "id": "8c24c368",
   "metadata": {},
   "outputs": [
    {
     "name": "stdout",
     "output_type": "stream",
     "text": [
      "<class 'int'>\n",
      "<class 'float'>\n",
      "<class 'complex'>\n"
     ]
    }
   ],
   "source": [
    "#2\n",
    "print(type(my_int))\n",
    "print(type(my_float))\n",
    "print(type(my_complex))   "
   ]
  },
  {
   "cell_type": "code",
   "execution_count": 13,
   "id": "f8278112",
   "metadata": {},
   "outputs": [
    {
     "name": "stdout",
     "output_type": "stream",
     "text": [
      "13.14\n"
     ]
    }
   ],
   "source": [
    "#3\n",
    "print(my_int + my_float)"
   ]
  },
  {
   "cell_type": "code",
   "execution_count": 14,
   "id": "a62fd998",
   "metadata": {},
   "outputs": [
    {
     "name": "stdout",
     "output_type": "stream",
     "text": [
      "(6.28+9.42j)\n"
     ]
    }
   ],
   "source": [
    "#4\n",
    "print(my_float * my_complex)"
   ]
  },
  {
   "cell_type": "code",
   "execution_count": 105,
   "id": "2ce11390",
   "metadata": {},
   "outputs": [
    {
     "name": "stdout",
     "output_type": "stream",
     "text": [
      "(-5+12j)\n"
     ]
    }
   ],
   "source": [
    "print(my_complex * my_complex)"
   ]
  },
  {
   "cell_type": "code",
   "execution_count": 15,
   "id": "7877b652",
   "metadata": {},
   "outputs": [],
   "source": [
    "# 2. Text Type \n",
    "#    1. Create a variable greeting and assign it the value \"Hello, Python!\". \n",
    "#    2. Print the type of the greeting variable. \n",
    "#    3. Extract and print the word \"Python\" from the string using slicing ([]). \n",
    "#    4. Use the len() function to find the length of the string. "
   ]
  },
  {
   "cell_type": "code",
   "execution_count": 32,
   "id": "59eb25b9",
   "metadata": {},
   "outputs": [],
   "source": [
    "#1\n",
    "my_text = \"Hello, Python!\""
   ]
  },
  {
   "cell_type": "code",
   "execution_count": 28,
   "id": "b38c8b4d",
   "metadata": {},
   "outputs": [
    {
     "name": "stdout",
     "output_type": "stream",
     "text": [
      "<class 'str'>\n"
     ]
    }
   ],
   "source": [
    "#2\n",
    "print(type(my_text))"
   ]
  },
  {
   "cell_type": "code",
   "execution_count": 34,
   "id": "58229122",
   "metadata": {},
   "outputs": [
    {
     "name": "stdout",
     "output_type": "stream",
     "text": [
      "Python\n"
     ]
    }
   ],
   "source": [
    "#3\n",
    "print(my_text[7:13])"
   ]
  },
  {
   "cell_type": "code",
   "execution_count": 57,
   "id": "d0d6fce5",
   "metadata": {},
   "outputs": [
    {
     "data": {
      "text/plain": [
       "14"
      ]
     },
     "execution_count": 57,
     "metadata": {},
     "output_type": "execute_result"
    }
   ],
   "source": [
    "#4\n",
    "len(my_text)"
   ]
  },
  {
   "cell_type": "code",
   "execution_count": 19,
   "id": "88e066ae",
   "metadata": {},
   "outputs": [],
   "source": [
    "# 3. Sequence Types\n",
    "# List\n",
    "# 1. Create a list named my_list with these values: [1, 2, 3, 4, 5].\n",
    "# 2. Print the type of my_list.\n",
    "# 3. Print the first and last items in the list.\n",
    "# 4. Change the second item in the list to 10 and print the updated list."
   ]
  },
  {
   "cell_type": "code",
   "execution_count": 20,
   "id": "1e9d91be",
   "metadata": {},
   "outputs": [],
   "source": [
    "#1\n",
    "my_list = [1, 2, 3, 4, 5]"
   ]
  },
  {
   "cell_type": "code",
   "execution_count": 21,
   "id": "f3937759",
   "metadata": {},
   "outputs": [
    {
     "name": "stdout",
     "output_type": "stream",
     "text": [
      "<class 'list'>\n"
     ]
    }
   ],
   "source": [
    "#2\n",
    "print(type(my_list))"
   ]
  },
  {
   "cell_type": "code",
   "execution_count": 41,
   "id": "b5b5890c",
   "metadata": {},
   "outputs": [
    {
     "name": "stdout",
     "output_type": "stream",
     "text": [
      "1\n",
      "5\n"
     ]
    }
   ],
   "source": [
    "#3\n",
    "print(my_list[0])    \n",
    "print(my_list[-1]) "
   ]
  },
  {
   "cell_type": "code",
   "execution_count": 44,
   "id": "96b1d225",
   "metadata": {},
   "outputs": [
    {
     "name": "stdout",
     "output_type": "stream",
     "text": [
      "[1, 10, 3, 4, 5]\n"
     ]
    }
   ],
   "source": [
    "#4\n",
    "my_list[1] = 10\n",
    "print(my_list)"
   ]
  },
  {
   "cell_type": "code",
   "execution_count": 22,
   "id": "748644af",
   "metadata": {},
   "outputs": [],
   "source": [
    "# Tuple\n",
    "# 1. Create a tuple named my_tuple with these values: (1, 2, 3, 4, 5).\n",
    "# 2. Print the type of my_tuple.\n",
    "# 3. Access and print the third item in the tuple.\n",
    "# 4. Try to change the first item to 10. What happens?"
   ]
  },
  {
   "cell_type": "code",
   "execution_count": 26,
   "id": "66fe11c6",
   "metadata": {},
   "outputs": [],
   "source": [
    "#1\n",
    "my_tuple = (1, 2, 3, 4, 5)"
   ]
  },
  {
   "cell_type": "code",
   "execution_count": 27,
   "id": "92e548c2",
   "metadata": {},
   "outputs": [
    {
     "name": "stdout",
     "output_type": "stream",
     "text": [
      "<class 'tuple'>\n"
     ]
    }
   ],
   "source": [
    "#2\n",
    "print(type(my_tuple))"
   ]
  },
  {
   "cell_type": "code",
   "execution_count": 52,
   "id": "ca09f8e1",
   "metadata": {},
   "outputs": [
    {
     "name": "stdout",
     "output_type": "stream",
     "text": [
      "3\n"
     ]
    }
   ],
   "source": [
    "#3\n",
    "print(my_tuple[2])"
   ]
  },
  {
   "cell_type": "code",
   "execution_count": 48,
   "id": "9bce1a5d",
   "metadata": {
    "scrolled": true
   },
   "outputs": [
    {
     "ename": "TypeError",
     "evalue": "'tuple' object does not support item assignment",
     "output_type": "error",
     "traceback": [
      "\u001b[1;31m---------------------------------------------------------------------------\u001b[0m",
      "\u001b[1;31mTypeError\u001b[0m                                 Traceback (most recent call last)",
      "Cell \u001b[1;32mIn[48], line 1\u001b[0m\n\u001b[1;32m----> 1\u001b[0m my_tuple[\u001b[38;5;241m0\u001b[39m] \u001b[38;5;241m=\u001b[39m \u001b[38;5;241m10\u001b[39m\n",
      "\u001b[1;31mTypeError\u001b[0m: 'tuple' object does not support item assignment"
     ]
    }
   ],
   "source": [
    "#4\n",
    "my_tuple[0] = 10\n",
    "\n",
    "#It threw an error. TypeError: 'tuple' object does not support item assignment"
   ]
  },
  {
   "cell_type": "code",
   "execution_count": 25,
   "id": "465d5ac0",
   "metadata": {},
   "outputs": [],
   "source": [
    "# Range\n",
    "# 1. Create a range object named my_range that includes numbers from 0 to 5.\n",
    "# 2. Convert my_range to a list and print it.\n",
    "# 3. Print the type of my_range."
   ]
  },
  {
   "cell_type": "code",
   "execution_count": 55,
   "id": "e9dc243d",
   "metadata": {},
   "outputs": [
    {
     "name": "stdout",
     "output_type": "stream",
     "text": [
      "range(0, 5)\n"
     ]
    }
   ],
   "source": [
    "my_range = range(0, 5)\n",
    "print(my_range) "
   ]
  },
  {
   "cell_type": "code",
   "execution_count": 60,
   "id": "58d8631b",
   "metadata": {},
   "outputs": [
    {
     "name": "stdout",
     "output_type": "stream",
     "text": [
      "[0, 1, 2, 3, 4]\n"
     ]
    }
   ],
   "source": [
    "print(list(my_range))"
   ]
  },
  {
   "cell_type": "code",
   "execution_count": 61,
   "id": "1c611cf4",
   "metadata": {},
   "outputs": [
    {
     "name": "stdout",
     "output_type": "stream",
     "text": [
      "<class 'range'>\n"
     ]
    }
   ],
   "source": [
    "print(type(my_range))"
   ]
  },
  {
   "cell_type": "code",
   "execution_count": 62,
   "id": "aae35c59",
   "metadata": {},
   "outputs": [],
   "source": [
    "# 4. Mapping Type\n",
    "#    1. Create a dictionary named my_dict with the following key-value pairs:\n",
    "#    'name': 'Alice'\n",
    "#    'age': 25\n",
    "#    'is_student': True\n",
    "#    2. Print the type of my_dict.\n",
    "#    3. Access and print the value of the 'name' key.\n",
    "#    4. Add a new key 'grade' with the value 'A' and print the updated dictionary."
   ]
  },
  {
   "cell_type": "code",
   "execution_count": 63,
   "id": "79aa5b93",
   "metadata": {},
   "outputs": [],
   "source": [
    "#1\n",
    "my_dict = {'name': 'Alice', 'age': 25, 'is_student': True}"
   ]
  },
  {
   "cell_type": "code",
   "execution_count": 65,
   "id": "5e8f435e",
   "metadata": {},
   "outputs": [
    {
     "name": "stdout",
     "output_type": "stream",
     "text": [
      "<class 'dict'>\n"
     ]
    }
   ],
   "source": [
    "#2\n",
    "print(type(my_dict))"
   ]
  },
  {
   "cell_type": "code",
   "execution_count": 67,
   "id": "de5a4ea7",
   "metadata": {},
   "outputs": [
    {
     "name": "stdout",
     "output_type": "stream",
     "text": [
      "Alice\n"
     ]
    }
   ],
   "source": [
    "#3\n",
    "print(my_dict['name'])"
   ]
  },
  {
   "cell_type": "code",
   "execution_count": 70,
   "id": "c54b5fa4",
   "metadata": {},
   "outputs": [
    {
     "name": "stdout",
     "output_type": "stream",
     "text": [
      "{'name': 'Alice', 'age': 25, 'is_student': True, 'grade': 'A'}\n"
     ]
    }
   ],
   "source": [
    "#4\n",
    "my_dict['grade'] = 'A'\n",
    "print(my_dict)"
   ]
  },
  {
   "cell_type": "code",
   "execution_count": null,
   "id": "6e510372",
   "metadata": {},
   "outputs": [],
   "source": [
    "# 5. Set Types\n",
    "# Set\n",
    "# 1. Create a set named my_set with the values {1, 2, 3, 4, 5}.\n",
    "# 2. Print the type of my_set.\n",
    "# 3. Try adding a duplicate value (e.g., 2) to the set. What happens?\n",
    "# 4. Remove an item from the set (e.g., 3) and print the updated set.\n",
    "\n",
    "# Frozenset\n",
    "# 1. Create a frozenset named my_frozenset with the values {10, 20, 30}.\n",
    "# 2. Print the type of my_frozenset.\n",
    "# 3. Try to add a new value to the frozenset. What happens?"
   ]
  },
  {
   "cell_type": "code",
   "execution_count": 92,
   "id": "ad556b8e",
   "metadata": {},
   "outputs": [],
   "source": [
    "# Set\n",
    "#1\n",
    "my_set = {1,2,3,4,5}"
   ]
  },
  {
   "cell_type": "code",
   "execution_count": 93,
   "id": "f8c8772a",
   "metadata": {},
   "outputs": [
    {
     "name": "stdout",
     "output_type": "stream",
     "text": [
      "{1, 2, 3, 4, 5}\n"
     ]
    }
   ],
   "source": [
    "#2\n",
    "print(my_set)"
   ]
  },
  {
   "cell_type": "code",
   "execution_count": 94,
   "id": "643b2ace",
   "metadata": {},
   "outputs": [
    {
     "name": "stdout",
     "output_type": "stream",
     "text": [
      "{1, 2, 3, 4, 5}\n"
     ]
    }
   ],
   "source": [
    "my_set.add(2)\n",
    "print(my_set)\n",
    "\n",
    "#There were no changes to the set, when duplicates are added"
   ]
  },
  {
   "cell_type": "code",
   "execution_count": 95,
   "id": "f92ab592",
   "metadata": {},
   "outputs": [
    {
     "name": "stdout",
     "output_type": "stream",
     "text": [
      "{1, 2, 4, 5}\n"
     ]
    }
   ],
   "source": [
    "my_set.remove(3)\n",
    "print(my_set)"
   ]
  },
  {
   "cell_type": "code",
   "execution_count": 96,
   "id": "35bdf04e",
   "metadata": {},
   "outputs": [
    {
     "name": "stdout",
     "output_type": "stream",
     "text": [
      "<class 'frozenset'>\n"
     ]
    }
   ],
   "source": [
    "# Frozenset\n",
    "#1\n",
    "my_frozenset = frozenset({10, 20, 30})\n",
    "print(type(my_frozenset))"
   ]
  },
  {
   "cell_type": "code",
   "execution_count": 98,
   "id": "93bc650d",
   "metadata": {},
   "outputs": [
    {
     "ename": "AttributeError",
     "evalue": "'frozenset' object has no attribute 'add'",
     "output_type": "error",
     "traceback": [
      "\u001b[1;31m---------------------------------------------------------------------------\u001b[0m",
      "\u001b[1;31mAttributeError\u001b[0m                            Traceback (most recent call last)",
      "Cell \u001b[1;32mIn[98], line 1\u001b[0m\n\u001b[1;32m----> 1\u001b[0m \u001b[43mmy_frozenset\u001b[49m\u001b[38;5;241;43m.\u001b[39;49m\u001b[43madd\u001b[49m(\u001b[38;5;241m40\u001b[39m)\n\u001b[0;32m      2\u001b[0m \u001b[38;5;28mprint\u001b[39m(my_frozenset)\n",
      "\u001b[1;31mAttributeError\u001b[0m: 'frozenset' object has no attribute 'add'"
     ]
    }
   ],
   "source": [
    "my_frozenset.add(40)\n",
    "print(my_frozenset)\n",
    "\n",
    "#It threw an error. AttributeError: 'frozenset' object has no attribute 'add'\n"
   ]
  },
  {
   "cell_type": "code",
   "execution_count": 74,
   "id": "785c3593",
   "metadata": {},
   "outputs": [],
   "source": [
    "# 6. Boolean Type\n",
    "# 1. Create a variable is_python_fun and assign it the value True.\n",
    "# 2. Create another variable is_java_fun and assign it the value False.\n",
    "# 3. Print the type of both variables.\n",
    "# 4. Use a print statement to show the result of the following expressions:\n",
    "# o 5 > 3\n",
    "# o 5 == 10\n",
    "# o 5 < 3"
   ]
  },
  {
   "cell_type": "code",
   "execution_count": 99,
   "id": "b811fe7f",
   "metadata": {},
   "outputs": [],
   "source": [
    "is_python_fun = True"
   ]
  },
  {
   "cell_type": "code",
   "execution_count": 100,
   "id": "e67917f9",
   "metadata": {},
   "outputs": [],
   "source": [
    "is_java_fun = False"
   ]
  },
  {
   "cell_type": "code",
   "execution_count": 102,
   "id": "861a06f0",
   "metadata": {},
   "outputs": [
    {
     "name": "stdout",
     "output_type": "stream",
     "text": [
      "<class 'bool'>\n",
      "<class 'bool'>\n"
     ]
    }
   ],
   "source": [
    "print(type(is_python_fun))\n",
    "print(type(is_java_fun))"
   ]
  },
  {
   "cell_type": "code",
   "execution_count": 104,
   "id": "540eaf27",
   "metadata": {},
   "outputs": [
    {
     "name": "stdout",
     "output_type": "stream",
     "text": [
      "True\n",
      "False\n",
      "False\n"
     ]
    }
   ],
   "source": [
    "print(5>3)\n",
    "print(5==10)\n",
    "print(5<3)"
   ]
  },
  {
   "cell_type": "code",
   "execution_count": null,
   "id": "a4e2db0c",
   "metadata": {},
   "outputs": [],
   "source": []
  }
 ],
 "metadata": {
  "kernelspec": {
   "display_name": "Python 3 (ipykernel)",
   "language": "python",
   "name": "python3"
  },
  "language_info": {
   "codemirror_mode": {
    "name": "ipython",
    "version": 3
   },
   "file_extension": ".py",
   "mimetype": "text/x-python",
   "name": "python",
   "nbconvert_exporter": "python",
   "pygments_lexer": "ipython3",
   "version": "3.10.9"
  }
 },
 "nbformat": 4,
 "nbformat_minor": 5
}
