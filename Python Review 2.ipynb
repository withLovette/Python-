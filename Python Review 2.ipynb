{
 "cells": [
  {
   "cell_type": "markdown",
   "id": "1886cb47",
   "metadata": {},
   "source": [
    "#### 1. Data Types Practice "
   ]
  },
  {
   "cell_type": "code",
   "execution_count": 1,
   "id": "591ad5cd",
   "metadata": {},
   "outputs": [],
   "source": [
    "# Write a Python program to\n",
    "# ASSIGNMENT \n",
    "# Assign your name to a string variable. \n",
    "# Assign your age to an integer variable. \n",
    "# Assign your height (in meters) to a float variable. \n",
    "# Print each variable along with its type using type()."
   ]
  },
  {
   "cell_type": "code",
   "execution_count": 2,
   "id": "722b4a28",
   "metadata": {},
   "outputs": [],
   "source": [
    "my_name = 'Lovette Daminabo'"
   ]
  },
  {
   "cell_type": "code",
   "execution_count": 3,
   "id": "8bcd0f83",
   "metadata": {},
   "outputs": [],
   "source": [
    "my_age = 12"
   ]
  },
  {
   "cell_type": "code",
   "execution_count": 4,
   "id": "6e2cc31d",
   "metadata": {},
   "outputs": [],
   "source": [
    "my_height = 1.66 #in metres"
   ]
  },
  {
   "cell_type": "code",
   "execution_count": 5,
   "id": "d1566400",
   "metadata": {},
   "outputs": [
    {
     "name": "stdout",
     "output_type": "stream",
     "text": [
      "Lovette Daminabo <class 'str'>\n",
      "12 <class 'int'>\n",
      "1.66 <class 'float'>\n"
     ]
    }
   ],
   "source": [
    "print(my_name, type(my_name))\n",
    "print(my_age, type(my_age))\n",
    "print(my_height, type(my_height))"
   ]
  },
  {
   "cell_type": "code",
   "execution_count": 6,
   "id": "68fbe5f0",
   "metadata": {},
   "outputs": [],
   "source": [
    "# 2. Simple Conditionals \n",
    "# Write a program that asks the user for a number and: \n",
    "# Prints \"Positive\" if the number is greater than 0. \n",
    "# Prints \"Zero\" if the number is 0. \n",
    "# Prints \"Negative\" if the number is less than 0."
   ]
  },
  {
   "cell_type": "code",
   "execution_count": 14,
   "id": "31a63c7c",
   "metadata": {},
   "outputs": [
    {
     "name": "stdout",
     "output_type": "stream",
     "text": [
      "Pick a number of your choice3\n"
     ]
    }
   ],
   "source": [
    "number_choice = int(input(\"Pick a number of your choice\"))"
   ]
  },
  {
   "cell_type": "code",
   "execution_count": 16,
   "id": "5b73db76",
   "metadata": {},
   "outputs": [
    {
     "name": "stdout",
     "output_type": "stream",
     "text": [
      "Positive\n"
     ]
    }
   ],
   "source": [
    "if number_choice > 0:\n",
    "    print(\"Positive\")\n",
    "elif number_choice == 0:\n",
    "    print(\"Zero\")\n",
    "else:\n",
    "    print(\"Negative\")"
   ]
  },
  {
   "cell_type": "code",
   "execution_count": null,
   "id": "944005dc",
   "metadata": {},
   "outputs": [],
   "source": [
    "if number_choice > 0:\n",
    "    print(\"Positive\")\n",
    "elif number_choice == 0:\n",
    "    print(\"Zero\")\n",
    "else:\n",
    "    print(\"Negative\")"
   ]
  },
  {
   "cell_type": "code",
   "execution_count": null,
   "id": "4169f4d0",
   "metadata": {},
   "outputs": [],
   "source": [
    "# 3. Basic Input and Output \n",
    "# Write a program that: \n",
    "# 1. Asks the user for their favorite number. \n",
    "# 2. Prints \"Great choice!\" if the number is greater than 10. \n",
    "# 3. Prints \"That's a small number!\" if the number is less than or equal to 10. "
   ]
  },
  {
   "cell_type": "code",
   "execution_count": 28,
   "id": "71693659",
   "metadata": {},
   "outputs": [
    {
     "name": "stdout",
     "output_type": "stream",
     "text": [
      "Enter your favourite number13\n"
     ]
    }
   ],
   "source": [
    "favourite_number = int(input(\"Enter your favourite number\"))"
   ]
  },
  {
   "cell_type": "code",
   "execution_count": 29,
   "id": "66431d9f",
   "metadata": {},
   "outputs": [
    {
     "name": "stdout",
     "output_type": "stream",
     "text": [
      "Great Choice!\n"
     ]
    }
   ],
   "source": [
    "if favourite_number > 10:\n",
    "    print(\"Great Choice!\")\n",
    "elif favourite_number <= 10:\n",
    "    print(\"That's a small number!\")"
   ]
  },
  {
   "cell_type": "code",
   "execution_count": null,
   "id": "7ff59750",
   "metadata": {},
   "outputs": [],
   "source": [
    "# 4. Branching with Multiple Conditions \n",
    "# Write a program that: \n",
    "# 1. Asks the user to input their age. \n",
    "# 2. Prints: \n",
    "# o \"Child\" if the age is less than 13. \n",
    "# o \"Teenager\" if the age is between 13 and 19 (inclusive). \n",
    "# o \"Adult\" if the age is 20 or above."
   ]
  },
  {
   "cell_type": "code",
   "execution_count": 1,
   "id": "76df778e",
   "metadata": {},
   "outputs": [
    {
     "name": "stdout",
     "output_type": "stream",
     "text": [
      "Enter your age26\n"
     ]
    }
   ],
   "source": [
    "user_age = int(input(\"Enter your age\"))"
   ]
  },
  {
   "cell_type": "code",
   "execution_count": 2,
   "id": "ec3d23ce",
   "metadata": {},
   "outputs": [
    {
     "name": "stdout",
     "output_type": "stream",
     "text": [
      "Adult\n"
     ]
    }
   ],
   "source": [
    "if user_age < 13:\n",
    "    print(\"Child\")\n",
    "elif user_age >= 13 and user_age <=19:\n",
    "    print(\"Teenager\")\n",
    "elif user_age >=20:\n",
    "    print(\"Adult\")"
   ]
  },
  {
   "cell_type": "code",
   "execution_count": null,
   "id": "2a0845cb",
   "metadata": {},
   "outputs": [],
   "source": [
    "# 5. Type Validation \n",
    "# Write a program that: \n",
    "# 1. Asks the user to input something. \n",
    "# 2. Checks if the input is an integer, a float, or a string, and prints the result. \n",
    "# Hint: Use the isinstance() function or try converting the input. "
   ]
  },
  {
   "cell_type": "code",
   "execution_count": 1,
   "id": "ae7a3aec",
   "metadata": {},
   "outputs": [
    {
     "name": "stdout",
     "output_type": "stream",
     "text": [
      "Please enter something: 6\n",
      "The input is an integer\n"
     ]
    }
   ],
   "source": [
    "user_input = input(\"Please enter something: \")\n",
    "\n",
    "if isinstance(user_input, str) and user_input.isdigit():\n",
    "    print(\"The input is an integer\")\n",
    "elif isinstance(user_input, str) and '.' in user_input and user_input.count('.') <= 1:\n",
    "    print(\"The input is a float\")\n",
    "else:\n",
    "    print(\"The input is a string\")\n"
   ]
  },
  {
   "cell_type": "code",
   "execution_count": null,
   "id": "58def453",
   "metadata": {},
   "outputs": [],
   "source": [
    "6. Leap Year Checker \n",
    "Write a program that: \n",
    "1. Asks the user for a year. \n",
    "2. Prints whether the year is a leap year or not. \n",
    "A leap year is divisible by 4 but not divisible by 100, unless it is also divisible by 400."
   ]
  },
  {
   "cell_type": "code",
   "execution_count": 31,
   "id": "df48e39d",
   "metadata": {},
   "outputs": [
    {
     "name": "stdout",
     "output_type": "stream",
     "text": [
      "Enter a year2000\n"
     ]
    }
   ],
   "source": [
    "user_input_year = int(input(\"Enter a year\"))"
   ]
  },
  {
   "cell_type": "code",
   "execution_count": 32,
   "id": "2f1c8e7a",
   "metadata": {},
   "outputs": [
    {
     "name": "stdout",
     "output_type": "stream",
     "text": [
      "Yay! This is a leap year\n"
     ]
    }
   ],
   "source": [
    "if (user_input_year % 4 == 0) and (user_input_year % 100 != 0 or user_input_year % 400 == 0) :\n",
    "    print(\"Yay! This is a leap year\")\n",
    "else:\n",
    "    print(\"Urghh, this is not a leap year\")"
   ]
  },
  {
   "cell_type": "code",
   "execution_count": null,
   "id": "2fa83f6f",
   "metadata": {},
   "outputs": [],
   "source": [
    "# 7. Number Classifier \n",
    "# Write a program that: \n",
    "# 1. Asks the user to input a number. \n",
    "# 2. Prints: \n",
    "#  \"Even and Positive\" if the number is positive and even. \n",
    "#  \"Odd and Positive\" if the number is positive and odd. \n",
    "#  \"Negative\" if the number is less than 0. \n",
    "#  \"Zero\" if the number is 0. "
   ]
  },
  {
   "cell_type": "code",
   "execution_count": 50,
   "id": "02ef9305",
   "metadata": {},
   "outputs": [
    {
     "name": "stdout",
     "output_type": "stream",
     "text": [
      "2\n"
     ]
    }
   ],
   "source": [
    "user_input_number = int(input(\"Enter a number\"))"
   ]
  },
  {
   "cell_type": "code",
   "execution_count": 40,
   "id": "0d3ef10c",
   "metadata": {},
   "outputs": [
    {
     "name": "stdout",
     "output_type": "stream",
     "text": [
      "Zero\n"
     ]
    }
   ],
   "source": [
    "if (user_input_number > 0 and user_input_number % 2 == 0):\n",
    "    print(\"Even and Positive\")\n",
    "elif (user_input_number > 0 and user_input_number % 2 != 0):\n",
    "    print(\"Odd and Positive\")\n",
    "elif (user_input_number < 0):\n",
    "    print(\"Negative\")\n",
    "elif (user_input_number == 0):\n",
    "    print(\"Zero\")"
   ]
  },
  {
   "cell_type": "code",
   "execution_count": null,
   "id": "d9386500",
   "metadata": {},
   "outputs": [],
   "source": [
    "# 8. Simple Calculator \n",
    "# Write a program that: \n",
    "# 1. Asks the user to enter two numbers and an operator (+, -, *, /). \n",
    "# 2. Performs the specified operation on the two numbers. \n",
    "# 3. Handles cases where the user enters an invalid operator or attempts division by zero.  "
   ]
  },
  {
   "cell_type": "code",
   "execution_count": 5,
   "id": "182db83d",
   "metadata": {},
   "outputs": [
    {
     "name": "stdout",
     "output_type": "stream",
     "text": [
      "Enter first number5\n",
      "Enter an operator (+, -, *, /)/\n",
      "Enter second number0\n",
      "Division by zero is not allowed.\n"
     ]
    }
   ],
   "source": [
    "user_num1, user_op, user_num2 = float(input(\"Enter first number\")),input(\"Enter an operator (+, -, *, /)\"),float(input(\"Enter second number\"))\n",
    "\n",
    "#Where user_num1 is first number, user_num2 is the second number, and user_op is the operator\n",
    "if user_op == '+' :\n",
    "    print(user_num1 + user_num2)\n",
    "elif user_op == '-':\n",
    "    print(user_num1 - user_num2)\n",
    "elif user_op == '*':\n",
    "    print(user_num1 * user_num2) \n",
    "elif user_op == \"/\":\n",
    "    if user_num2 != 0:\n",
    "        print(user_num1/user_num2)\n",
    "    else:\n",
    "        print(\"Division by zero is not allowed.\")\n",
    "else:\n",
    "    print(\"Invalid operator. Please enter a valid operator (+, -, *, /).\")"
   ]
  },
  {
   "cell_type": "code",
   "execution_count": null,
   "id": "5910d176",
   "metadata": {},
   "outputs": [],
   "source": [
    "# 9. Rock-Paper-Scissors Game \n",
    "# Write a program that:  \n",
    "# 1. Lets the user and the computer play a game of Rock-Paper-Scissors. \n",
    "# 2. Uses branching to decide the winner. \n",
    "# 3. (Optional) Use the random module to make the computer's choice. \n"
   ]
  },
  {
   "cell_type": "code",
   "execution_count": 46,
   "id": "0a679b28",
   "metadata": {},
   "outputs": [
    {
     "name": "stdout",
     "output_type": "stream",
     "text": [
      "Enter user game play: rock\n",
      "Computer chose: scissors\n",
      "User chose: rock\n",
      "User Wins!\n"
     ]
    }
   ],
   "source": [
    "import random \n",
    "game_play = [\"rock\", \"paper\", \"scissors\"]\n",
    "\n",
    "comp_play = random.choice(game_play)\n",
    "user_play = input(\"Enter user game play: \")    \n",
    "\n",
    "print(f'Computer chose: {comp_play}')\n",
    "print(f'User chose: {user_play}')\n",
    "\n",
    "if user_play == comp_play :\n",
    "    print(\"It's a tie!\")\n",
    "elif (user_play == 'paper'and comp_play == \"rock\") or \\\n",
    "     (user_play == 'rock'and comp_play == \"scissors\") or \\\n",
    "     (user_play == 'scissors'and comp_play == \"paper\"):\n",
    "    print(\"User Wins!\")\n",
    "elif (user_play == 'rock'and comp_play == \"paper\") or \\\n",
    "     (user_play == 'scissors'and comp_play == \"rock\") or \\\n",
    "     (user_play == 'paper'and comp_play == \"scissors\"):\n",
    "    print(\"Computer Wins!\")\n",
    "else: \n",
    "    print(\"Error: Please enter rock, paper or scissors only\")"
   ]
  },
  {
   "cell_type": "code",
   "execution_count": 42,
   "id": "2ce69c52",
   "metadata": {},
   "outputs": [],
   "source": [
    "# 10. Guess the Number\n",
    "# Write a program that: \n",
    "# 1. Picks a random number between 1 and 50 (use the random module). \n",
    "# 2. Lets the user guess the number. \n",
    "# 3. Prints \"Too high\", \"Too low\", or \"Correct!\" based on the user's guess. \n",
    "# Hint: use random library to pick integer number between 1 and 50"
   ]
  },
  {
   "cell_type": "code",
   "execution_count": 66,
   "id": "ba6c4a72",
   "metadata": {},
   "outputs": [
    {
     "name": "stdout",
     "output_type": "stream",
     "text": [
      " Guess a number between 1 and 50: 8\n",
      "Computer picked: 3\n",
      "User guessed: 8\n",
      "Too high\n"
     ]
    }
   ],
   "source": [
    "import random\n",
    "\n",
    "choices = range(1,51)\n",
    "comp_choice = random.choice(choices)\n",
    "\n",
    "user_guess = input(\" Guess a number between 1 and 50: \")\n",
    "\n",
    "print(f'Computer picked: {comp_choice}')\n",
    "print(f'User guessed: {user_guess}')\n",
    "\n",
    "\n",
    "if isinstance(user_guess, str) and user_guess.isdigit():\n",
    "    if int(user_guess) > 50 or int(user_guess) < 1:\n",
    "        print (\"Error: Please Enter guesses between 1 and 50 only\")\n",
    "    elif int(user_guess) == comp_choice:\n",
    "        print(\"Correct!\")\n",
    "    elif int(user_guess) > comp_choice:\n",
    "        print(\"Too high\")\n",
    "    elif int(user_guess) < comp_choice:\n",
    "        print(\"Too low\")\n",
    "else:\n",
    "    print(\"Error: Please enter integers only\")\n",
    "    "
   ]
  }
 ],
 "metadata": {
  "kernelspec": {
   "display_name": "Python 3 (ipykernel)",
   "language": "python",
   "name": "python3"
  },
  "language_info": {
   "codemirror_mode": {
    "name": "ipython",
    "version": 3
   },
   "file_extension": ".py",
   "mimetype": "text/x-python",
   "name": "python",
   "nbconvert_exporter": "python",
   "pygments_lexer": "ipython3",
   "version": "3.10.9"
  }
 },
 "nbformat": 4,
 "nbformat_minor": 5
}
